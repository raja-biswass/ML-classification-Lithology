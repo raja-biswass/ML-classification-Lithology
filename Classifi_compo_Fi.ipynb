{
 "cells": [
  {
   "cell_type": "code",
   "execution_count": 1,
   "id": "f756313b",
   "metadata": {},
   "outputs": [
    {
     "name": "stdout",
     "output_type": "stream",
     "text": [
      "Requirement already satisfied: lightgbm in c:\\users\\nisar-ra\\anaconda3\\envs\\pygdal38\\lib\\site-packages (3.3.5)\n",
      "Requirement already satisfied: numpy in c:\\users\\nisar-ra\\anaconda3\\envs\\pygdal38\\lib\\site-packages (from lightgbm) (1.22.3)\n",
      "Requirement already satisfied: scipy in c:\\users\\nisar-ra\\anaconda3\\envs\\pygdal38\\lib\\site-packages (from lightgbm) (1.10.0)\n",
      "Requirement already satisfied: scikit-learn!=0.22.0 in c:\\users\\nisar-ra\\anaconda3\\envs\\pygdal38\\lib\\site-packages (from lightgbm) (1.2.0)\n",
      "Requirement already satisfied: wheel in c:\\users\\nisar-ra\\anaconda3\\envs\\pygdal38\\lib\\site-packages (from lightgbm) (0.37.1)\n",
      "Requirement already satisfied: threadpoolctl>=2.0.0 in c:\\users\\nisar-ra\\anaconda3\\envs\\pygdal38\\lib\\site-packages (from scikit-learn!=0.22.0->lightgbm) (3.1.0)\n",
      "Requirement already satisfied: joblib>=1.1.1 in c:\\users\\nisar-ra\\anaconda3\\envs\\pygdal38\\lib\\site-packages (from scikit-learn!=0.22.0->lightgbm) (1.2.0)\n",
      "Note: you may need to restart the kernel to use updated packages.\n"
     ]
    }
   ],
   "source": [
    "pip install lightgbm"
   ]
  },
  {
   "cell_type": "code",
   "execution_count": 49,
   "id": "9ef72d75",
   "metadata": {},
   "outputs": [],
   "source": [
    "import numpy as np\n",
    "import gdal\n",
    "import pandas as pd\n",
    "from sklearn.model_selection import train_test_split\n",
    "import lightgbm as lgb"
   ]
  },
  {
   "cell_type": "code",
   "execution_count": 50,
   "id": "f085a8bf",
   "metadata": {},
   "outputs": [],
   "source": [
    "inpRaster = 'Composite_fi_clip.tif' \n",
    "outRaster = 'classified_fijup.tif' \n",
    "df = pd.read_csv('Classifi_FI_comp.csv')"
   ]
  },
  {
   "cell_type": "code",
   "execution_count": 51,
   "id": "e560cf06",
   "metadata": {},
   "outputs": [
    {
     "data": {
      "text/html": [
       "<div>\n",
       "<style scoped>\n",
       "    .dataframe tbody tr th:only-of-type {\n",
       "        vertical-align: middle;\n",
       "    }\n",
       "\n",
       "    .dataframe tbody tr th {\n",
       "        vertical-align: top;\n",
       "    }\n",
       "\n",
       "    .dataframe thead th {\n",
       "        text-align: right;\n",
       "    }\n",
       "</style>\n",
       "<table border=\"1\" class=\"dataframe\">\n",
       "  <thead>\n",
       "    <tr style=\"text-align: right;\">\n",
       "      <th></th>\n",
       "      <th>Band_1</th>\n",
       "      <th>Band_2</th>\n",
       "      <th>Band_3</th>\n",
       "      <th>Band_4</th>\n",
       "      <th>Band_5</th>\n",
       "      <th>Band_6</th>\n",
       "      <th>Band_7</th>\n",
       "      <th>Band_8</th>\n",
       "      <th>Band_9</th>\n",
       "      <th>Band_10</th>\n",
       "      <th>Band_11</th>\n",
       "      <th>ClassID</th>\n",
       "      <th>Class_name</th>\n",
       "    </tr>\n",
       "  </thead>\n",
       "  <tbody>\n",
       "    <tr>\n",
       "      <th>0</th>\n",
       "      <td>0.802243</td>\n",
       "      <td>0.511247</td>\n",
       "      <td>-11.121046</td>\n",
       "      <td>-1.187986</td>\n",
       "      <td>-0.217070</td>\n",
       "      <td>46</td>\n",
       "      <td>1.045</td>\n",
       "      <td>0.114</td>\n",
       "      <td>0.089072</td>\n",
       "      <td>0.028547</td>\n",
       "      <td>0.008142</td>\n",
       "      <td>1</td>\n",
       "      <td>ASK</td>\n",
       "    </tr>\n",
       "    <tr>\n",
       "      <th>1</th>\n",
       "      <td>0.783197</td>\n",
       "      <td>0.534009</td>\n",
       "      <td>-11.905989</td>\n",
       "      <td>0.034768</td>\n",
       "      <td>-0.557473</td>\n",
       "      <td>54</td>\n",
       "      <td>1.049</td>\n",
       "      <td>0.117</td>\n",
       "      <td>0.090146</td>\n",
       "      <td>0.029851</td>\n",
       "      <td>0.008729</td>\n",
       "      <td>1</td>\n",
       "      <td>ASK</td>\n",
       "    </tr>\n",
       "    <tr>\n",
       "      <th>2</th>\n",
       "      <td>0.771204</td>\n",
       "      <td>0.547740</td>\n",
       "      <td>-7.164552</td>\n",
       "      <td>0.445399</td>\n",
       "      <td>-0.423039</td>\n",
       "      <td>54</td>\n",
       "      <td>1.027</td>\n",
       "      <td>0.126</td>\n",
       "      <td>0.087076</td>\n",
       "      <td>0.028418</td>\n",
       "      <td>0.005288</td>\n",
       "      <td>1</td>\n",
       "      <td>ASK</td>\n",
       "    </tr>\n",
       "    <tr>\n",
       "      <th>3</th>\n",
       "      <td>0.814251</td>\n",
       "      <td>0.496232</td>\n",
       "      <td>-5.439240</td>\n",
       "      <td>-1.435103</td>\n",
       "      <td>-0.324791</td>\n",
       "      <td>59</td>\n",
       "      <td>1.005</td>\n",
       "      <td>0.115</td>\n",
       "      <td>0.085156</td>\n",
       "      <td>0.031047</td>\n",
       "      <td>0.008023</td>\n",
       "      <td>1</td>\n",
       "      <td>ASK</td>\n",
       "    </tr>\n",
       "    <tr>\n",
       "      <th>4</th>\n",
       "      <td>0.846771</td>\n",
       "      <td>0.452534</td>\n",
       "      <td>-4.033033</td>\n",
       "      <td>2.218574</td>\n",
       "      <td>-0.247315</td>\n",
       "      <td>53</td>\n",
       "      <td>1.020</td>\n",
       "      <td>0.122</td>\n",
       "      <td>0.082730</td>\n",
       "      <td>0.032016</td>\n",
       "      <td>0.004915</td>\n",
       "      <td>1</td>\n",
       "      <td>ASK</td>\n",
       "    </tr>\n",
       "  </tbody>\n",
       "</table>\n",
       "</div>"
      ],
      "text/plain": [
       "     Band_1    Band_2     Band_3    Band_4    Band_5  Band_6  Band_7  Band_8  \\\n",
       "0  0.802243  0.511247 -11.121046 -1.187986 -0.217070      46   1.045   0.114   \n",
       "1  0.783197  0.534009 -11.905989  0.034768 -0.557473      54   1.049   0.117   \n",
       "2  0.771204  0.547740  -7.164552  0.445399 -0.423039      54   1.027   0.126   \n",
       "3  0.814251  0.496232  -5.439240 -1.435103 -0.324791      59   1.005   0.115   \n",
       "4  0.846771  0.452534  -4.033033  2.218574 -0.247315      53   1.020   0.122   \n",
       "\n",
       "     Band_9   Band_10   Band_11  ClassID Class_name  \n",
       "0  0.089072  0.028547  0.008142        1        ASK  \n",
       "1  0.090146  0.029851  0.008729        1        ASK  \n",
       "2  0.087076  0.028418  0.005288        1        ASK  \n",
       "3  0.085156  0.031047  0.008023        1        ASK  \n",
       "4  0.082730  0.032016  0.004915        1        ASK  "
      ]
     },
     "execution_count": 51,
     "metadata": {},
     "output_type": "execute_result"
    }
   ],
   "source": [
    "df.head()"
   ]
  },
  {
   "cell_type": "code",
   "execution_count": 52,
   "id": "743423bf",
   "metadata": {},
   "outputs": [],
   "source": [
    "ds = gdal.Open (inpRaster, gdal.GA_ReadOnly)"
   ]
  },
  {
   "cell_type": "code",
   "execution_count": 53,
   "id": "db33d7d9",
   "metadata": {},
   "outputs": [],
   "source": [
    "rows = ds.RasterYSize\n",
    "cols = ds.RasterXSize\n",
    "bands = ds.RasterCount\n",
    "geo_transform = ds.GetGeoTransform()\n",
    "projection = ds.GetProjectionRef()"
   ]
  },
  {
   "cell_type": "code",
   "execution_count": 54,
   "id": "21f0c998",
   "metadata": {},
   "outputs": [],
   "source": [
    "#print(rows,cols)\n",
    "#print(bands)"
   ]
  },
  {
   "cell_type": "code",
   "execution_count": 55,
   "id": "a427d9ac",
   "metadata": {},
   "outputs": [],
   "source": [
    "array = ds.ReadAsArray()\n",
    "ds = None"
   ]
  },
  {
   "cell_type": "code",
   "execution_count": 56,
   "id": "18d1ba4e",
   "metadata": {},
   "outputs": [],
   "source": [
    "#print(array)"
   ]
  },
  {
   "cell_type": "code",
   "execution_count": 57,
   "id": "2bceabfb",
   "metadata": {},
   "outputs": [],
   "source": [
    "array = np.stack(array,axis=2)\n",
    "array = np.reshape(array, [rows*cols,bands])"
   ]
  },
  {
   "cell_type": "code",
   "execution_count": 58,
   "id": "50ce0fde",
   "metadata": {},
   "outputs": [
    {
     "name": "stdout",
     "output_type": "stream",
     "text": [
      "[ 7.5549459e-01  5.6508839e-01 -8.9468546e+00 -1.3432292e+00\n",
      " -5.6897938e-02  5.8000000e+01  1.0076194e+00  1.2162700e-01\n",
      "  8.5740194e-02  2.8904591e-02  7.3349616e-03]\n"
     ]
    }
   ],
   "source": [
    "print(array[0])"
   ]
  },
  {
   "cell_type": "code",
   "execution_count": 59,
   "id": "535a3e43",
   "metadata": {},
   "outputs": [],
   "source": [
    "test = pd.DataFrame(array, dtype='float32')\n",
    "del array"
   ]
  },
  {
   "cell_type": "code",
   "execution_count": 60,
   "id": "18e5f446",
   "metadata": {},
   "outputs": [],
   "source": [
    "data = df[['Band_1','Band_2','Band_3','Band_4','Band_5','Band_6','Band_7','Band_8','Band_9','Band_10','Band_11']]\n",
    "lebel = df['ClassID']\n",
    "del df"
   ]
  },
  {
   "cell_type": "code",
   "execution_count": 61,
   "id": "eef4a975",
   "metadata": {},
   "outputs": [],
   "source": [
    "clf = lgb.LGBMClassifier(n_estimators=50,n_jobs=-1)\n",
    "clf.fit(data,lebel)\n",
    "del data\n",
    "del lebel"
   ]
  },
  {
   "cell_type": "code",
   "execution_count": 62,
   "id": "df5b9b69",
   "metadata": {},
   "outputs": [],
   "source": [
    "y_pred = clf.predict(test)"
   ]
  },
  {
   "cell_type": "code",
   "execution_count": 63,
   "id": "54dccfc0",
   "metadata": {},
   "outputs": [],
   "source": [
    "del test"
   ]
  },
  {
   "cell_type": "code",
   "execution_count": 64,
   "id": "7398e432",
   "metadata": {},
   "outputs": [],
   "source": [
    "classification = y_pred.reshape((rows,cols))\n",
    "del y_pred"
   ]
  },
  {
   "cell_type": "code",
   "execution_count": 65,
   "id": "44da846a",
   "metadata": {},
   "outputs": [],
   "source": [
    "def createGeotiff(outRaster, data, geo_transform, projection):\n",
    "    # Create a GeoTIFF file with the given data\n",
    "    driver = gdal.GetDriverByName('GTiff')\n",
    "    rows, cols = data.shape\n",
    "    rasterDS = driver.Create(outRaster, cols, rows, 1, gdal.GDT_Int32)\n",
    "    rasterDS.SetGeoTransform(geo_transform)\n",
    "    rasterDS.SetProjection(projection)\n",
    "    band = rasterDS.GetRasterBand(1)\n",
    "    band.WriteArray(data)\n",
    "    rasterDS = None"
   ]
  },
  {
   "cell_type": "code",
   "execution_count": 66,
   "id": "9401af12",
   "metadata": {},
   "outputs": [],
   "source": [
    "createGeotiff(outRaster,classification,geo_transform,projection)"
   ]
  },
  {
   "cell_type": "code",
   "execution_count": null,
   "id": "6e92f129",
   "metadata": {},
   "outputs": [],
   "source": []
  }
 ],
 "metadata": {
  "kernelspec": {
   "display_name": "pygdal38",
   "language": "python",
   "name": "pygdal38"
  },
  "language_info": {
   "codemirror_mode": {
    "name": "ipython",
    "version": 3
   },
   "file_extension": ".py",
   "mimetype": "text/x-python",
   "name": "python",
   "nbconvert_exporter": "python",
   "pygments_lexer": "ipython3",
   "version": "3.8.16"
  }
 },
 "nbformat": 4,
 "nbformat_minor": 5
}
